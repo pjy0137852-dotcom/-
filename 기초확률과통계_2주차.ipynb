{
  "nbformat": 4,
  "nbformat_minor": 0,
  "metadata": {
    "colab": {
      "provenance": [],
      "authorship_tag": "ABX9TyPuD7Io2GFKgFMRy7+3rRmJ",
      "include_colab_link": true
    },
    "kernelspec": {
      "name": "python3",
      "display_name": "Python 3"
    },
    "language_info": {
      "name": "python"
    }
  },
  "cells": [
    {
      "cell_type": "markdown",
      "metadata": {
        "id": "view-in-github",
        "colab_type": "text"
      },
      "source": [
        "<a href=\"https://colab.research.google.com/github/pjy0137852-dotcom/-/blob/main/%EA%B8%B0%EC%B4%88%ED%99%95%EB%A5%A0%EA%B3%BC%ED%86%B5%EA%B3%84_2%EC%A3%BC%EC%B0%A8.ipynb\" target=\"_parent\"><img src=\"https://colab.research.google.com/assets/colab-badge.svg\" alt=\"Open In Colab\"/></a>"
      ]
    },
    {
      "cell_type": "code",
      "execution_count": 1,
      "metadata": {
        "colab": {
          "base_uri": "https://localhost:8080/"
        },
        "id": "wYE8mPZAD_TV",
        "outputId": "9fba53ed-6492-4782-ecad-cb7ed6dba212"
      },
      "outputs": [
        {
          "output_type": "stream",
          "name": "stdout",
          "text": [
            "[6, 5, 4, 3, 2]\n"
          ]
        }
      ],
      "source": [
        "a = [2, 3, 4, 5, 6]\n",
        "rev_a = []\n",
        "for _ in range(len(a)):\n",
        "  rev_a.append(a.pop())\n",
        "print(rev_a)"
      ]
    },
    {
      "cell_type": "code",
      "source": [],
      "metadata": {
        "id": "4kJ9EUsMETyn"
      },
      "execution_count": null,
      "outputs": []
    }
  ]
}